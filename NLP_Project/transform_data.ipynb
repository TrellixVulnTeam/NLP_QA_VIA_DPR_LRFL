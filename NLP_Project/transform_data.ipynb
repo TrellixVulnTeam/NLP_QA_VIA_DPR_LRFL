{
 "cells": [
  {
   "cell_type": "code",
   "execution_count": 2,
   "metadata": {},
   "outputs": [],
   "source": [
    "import json "
   ]
  },
  {
   "cell_type": "markdown",
   "metadata": {},
   "source": [
    "# Transform retrieved data to query cache format "
   ]
  },
  {
   "cell_type": "code",
   "execution_count": 3,
   "metadata": {},
   "outputs": [],
   "source": [
    "with open('dpr/experiments/data/strategy_retrieved_passages.json','r') as f:\n",
    "    new_rt = json.load(f)"
   ]
  },
  {
   "cell_type": "code",
   "execution_count": 24,
   "metadata": {},
   "outputs": [],
   "source": [
    "with open('C:/Users/Omer/Downloads/strategy_orgin_data/train.json','rb') as f:\n",
    "    org_tr = json.load(f)"
   ]
  },
  {
   "cell_type": "code",
   "execution_count": 25,
   "metadata": {},
   "outputs": [],
   "source": [
    "with open('C:/Users/Omer/Downloads/strategy_orgin_data/dev.json','rb') as f:\n",
    "    org_dev = json.load(f)"
   ]
  },
  {
   "cell_type": "code",
   "execution_count": 26,
   "metadata": {},
   "outputs": [
    {
     "data": {
      "text/plain": [
       "2289"
      ]
     },
     "execution_count": 26,
     "metadata": {},
     "output_type": "execute_result"
    }
   ],
   "source": [
    "len(new_rt)"
   ]
  },
  {
   "cell_type": "code",
   "execution_count": 69,
   "metadata": {},
   "outputs": [],
   "source": [
    "with open('data/strategyqa/train.json','r') as f:\n",
    "    tr = json.load(f)\n",
    "with open('data/strategyqa/dev.json','r') as f:\n",
    "    dv = json.load(f)"
   ]
  },
  {
   "cell_type": "code",
   "execution_count": 27,
   "metadata": {},
   "outputs": [],
   "source": [
    "zz = []\n",
    "for i in org_tr:\n",
    "    zz.append(i['question'])\n",
    "for j in org_dev:\n",
    "    zz.append(j['question'])\n",
    "# zz = set(zz)"
   ]
  },
  {
   "cell_type": "code",
   "execution_count": 28,
   "metadata": {},
   "outputs": [],
   "source": [
    "for i in zz:\n",
    "    if(zz.count(i)>1):\n",
    "        print(i)"
   ]
  },
  {
   "cell_type": "code",
   "execution_count": 15,
   "metadata": {},
   "outputs": [
    {
     "data": {
      "text/plain": [
       "set()"
      ]
     },
     "execution_count": 15,
     "metadata": {},
     "output_type": "execute_result"
    }
   ],
   "source": [
    "set(new_rt).difference(zz)"
   ]
  },
  {
   "cell_type": "code",
   "execution_count": 72,
   "metadata": {},
   "outputs": [],
   "source": [
    "with open('data/strategyqa/queries_cache_dpr_clean.json','r') as f:\n",
    "    qc = json.load(f)"
   ]
  },
  {
   "cell_type": "code",
   "execution_count": 73,
   "metadata": {},
   "outputs": [],
   "source": [
    "zz = []\n",
    "for i in tr:\n",
    "    zz.append(i['question'])\n",
    "for j in dv:\n",
    "    zz.append(j['question'])"
   ]
  },
  {
   "cell_type": "code",
   "execution_count": 74,
   "metadata": {},
   "outputs": [
    {
     "data": {
      "text/plain": [
       "set()"
      ]
     },
     "execution_count": 74,
     "metadata": {},
     "output_type": "execute_result"
    }
   ],
   "source": [
    "\n",
    "set(zz).difference(z)"
   ]
  },
  {
   "cell_type": "code",
   "execution_count": 3,
   "metadata": {},
   "outputs": [],
   "source": [
    "with open('data/strategyqa/queries_cache.json','r') as f:\n",
    "    que_ca = json.load(f)\n"
   ]
  },
  {
   "cell_type": "code",
   "execution_count": 15,
   "metadata": {},
   "outputs": [
    {
     "data": {
      "text/plain": [
       "{'title': 'Genghis Khan',\n",
       " 'section': 'Early life',\n",
       " 'headers': ['Lineage'],\n",
       " 'sentence': \"Genghis Khan was related on his father's side to Khabul Khan, Ambaghai, and Hotula Khan, who had headed the Khamag Mongol confederation and were descendants of Bodonchar Munkhag (c. 900). When the Jurchen Jin dynasty switched support from the Mongols to the Tatars in 1161, they destroyed Khabul Khan.\",\n",
       " 'para_id': 4,\n",
       " 'score': 70.443}"
      ]
     },
     "execution_count": 15,
     "metadata": {},
     "output_type": "execute_result"
    }
   ],
   "source": [
    "que_ca['people today related Genghis Khan Julius Caesar?']['paras'][0]"
   ]
  },
  {
   "cell_type": "code",
   "execution_count": 32,
   "metadata": {},
   "outputs": [],
   "source": [
    "dpr_que = {}\n",
    "for k,v in new_rt.items():\n",
    "    dpr_que[k] = {'paras': []}\n",
    "    for para in v:\n",
    "        dpr_que[k]['paras'].append(\n",
    "            {\n",
    "                'title' : 'None',\n",
    "                'section' : 'None',\n",
    "                'headers' : [],\n",
    "                'sentence' : para['text'],\n",
    "                'para_id' : 'None',\n",
    "                'score' : para['score']\n",
    "            }\n",
    "        )"
   ]
  },
  {
   "cell_type": "markdown",
   "metadata": {},
   "source": [
    "# Clean questions"
   ]
  },
  {
   "cell_type": "code",
   "execution_count": 33,
   "metadata": {},
   "outputs": [
    {
     "name": "stderr",
     "output_type": "stream",
     "text": [
      "[nltk_data] Downloading package stopwords to\n",
      "[nltk_data]     C:\\Users\\Omer\\AppData\\Roaming\\nltk_data...\n",
      "[nltk_data]   Package stopwords is already up-to-date!\n"
     ]
    }
   ],
   "source": [
    "import nltk\n",
    "nltk.download(\"stopwords\")\n",
    "from nltk.corpus import stopwords\n",
    "\n",
    "STOPWORDS = stopwords.words(\"english\")\n",
    "STOPWORDS = [stopword + \" \" for stopword in STOPWORDS]"
   ]
  },
  {
   "cell_type": "code",
   "execution_count": 34,
   "metadata": {},
   "outputs": [],
   "source": [
    "def clean_query(query, remove_stopwords=True):\n",
    "    if remove_stopwords:\n",
    "        query_split = query.split()\n",
    "        new_query_split = []\n",
    "        for word in query_split:\n",
    "            if word.lower() + \" \" not in STOPWORDS:\n",
    "                new_query_split.append(word)\n",
    "        query = \" \".join(new_query_split)\n",
    "    return query"
   ]
  },
  {
   "cell_type": "code",
   "execution_count": 35,
   "metadata": {},
   "outputs": [],
   "source": [
    "for key in list(dpr_que.keys()):\n",
    "    cleaned_query = clean_query(key,True)\n",
    "    dpr_que[cleaned_query] = dpr_que.pop(key)"
   ]
  },
  {
   "cell_type": "code",
   "execution_count": 38,
   "metadata": {},
   "outputs": [],
   "source": [
    "with open('data/strategyqa/queries_cache_dpr_clean.json','w') as file:\n",
    "    json.dump(dpr_que,file)"
   ]
  },
  {
   "cell_type": "code",
   "execution_count": 40,
   "metadata": {},
   "outputs": [
    {
     "data": {
      "text/plain": [
       "{'paras': [{'title': 'None',\n",
       "   'section': 'None',\n",
       "   'headers': [],\n",
       "   'sentence': 'A dicotyledonous native species of eastern North America, Asarum canadense, is also known as \"wild ginger\", and its root has similar aromatic properties, but it is not related to true ginger. The plant contains aristolochic acid, a carcinogenic compound. The United States Food and Drug Administration warns that consumption of aristolochic acid-containing products is associated with \"permanent kidney damage, sometimes resulting in kidney failure that has required kidney dialysis or kidney transplantation. In addition, some patients have developed certain types of cancers, most often occurring in the urinary tract.\"',\n",
       "   'para_id': 'None',\n",
       "   'score': 120.7648999999999},\n",
       "  {'title': 'None',\n",
       "   'section': 'None',\n",
       "   'headers': [],\n",
       "   'sentence': 'Spices used in Khukri Spice Rum are hand-picked in the Himalayas, and include cloves, cardamom and cinnamon.',\n",
       "   'para_id': 'None',\n",
       "   'score': 118.8327999999999},\n",
       "  {'title': 'None',\n",
       "   'section': 'None',\n",
       "   'headers': [],\n",
       "   'sentence': 'Elderflower pressé is therefore similar to citron pressé and lemonade, and effectively a premixed form of elderflower cordial. Like them, it is used as a mixer in cocktails.',\n",
       "   'para_id': 'None',\n",
       "   'score': 118.76829999999995},\n",
       "  {'title': 'None',\n",
       "   'section': 'None',\n",
       "   'headers': [],\n",
       "   'sentence': 'Since the 1860s, Jamaica ginger had been widely sold at drug stores and roadside stands in two-ounce (57\\xa0g) bottles. In small doses, mixed with water, it was used as a remedy for headaches, upper respiratory infections, menstrual disorders, and intestinal gas. Despite its strong ginger flavour, it was popular as an alcoholic beverages in dry counties in the United States, where it was a convenient and legal method of obtaining alcohol. It was often mixed with a soft drink to improve the taste.',\n",
       "   'para_id': 'None',\n",
       "   'score': 118.36979999999994},\n",
       "  {'title': 'None',\n",
       "   'section': 'None',\n",
       "   'headers': [],\n",
       "   'sentence': 'When used as a spice powder in a common serving amount of one US tablespoon (5 grams), ground dried ginger (9% water) provides negligible content of essential nutrients, with the exception of manganese (70% DV).',\n",
       "   'para_id': 'None',\n",
       "   'score': 117.9652000000001},\n",
       "  {'title': 'None',\n",
       "   'section': 'None',\n",
       "   'headers': [],\n",
       "   'sentence': 'Asarum marmoratum is a species of wild ginger known by the common name marbled wild ginger.',\n",
       "   'para_id': 'None',\n",
       "   'score': 117.47160000000008},\n",
       "  {'title': 'None',\n",
       "   'section': 'None',\n",
       "   'headers': [],\n",
       "   'sentence': 'Although the genus Mentha comprises more than 25 species, the most common one used is peppermint. While Western peppermint is derived from Mentha piperita, Chinese peppermint, or “Bohe” is derived from the fresh leaves of Mentha haplocalyx. Mentha piperita and Mentha haplocalyx are both recognized as plant sources of menthol and menthone and are among the oldest herbs used for both culinary and medicinal products.',\n",
       "   'para_id': 'None',\n",
       "   'score': 117.28109999999992}]}"
      ]
     },
     "execution_count": 40,
     "metadata": {},
     "output_type": "execute_result"
    }
   ],
   "source": [
    "dpr_que['Starbucks passion tea ginger it?']"
   ]
  }
 ],
 "metadata": {
  "kernelspec": {
   "display_name": "Python 3",
   "language": "python",
   "name": "python3"
  },
  "language_info": {
   "codemirror_mode": {
    "name": "ipython",
    "version": 3
   },
   "file_extension": ".py",
   "mimetype": "text/x-python",
   "name": "python",
   "nbconvert_exporter": "python",
   "pygments_lexer": "ipython3",
   "version": "3.7.7"
  }
 },
 "nbformat": 4,
 "nbformat_minor": 4
}
